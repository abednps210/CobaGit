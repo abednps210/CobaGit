{
 "cells": [
  {
   "cell_type": "markdown",
   "id": "2ed37ebc",
   "metadata": {},
   "source": [
    "# Tugas 1"
   ]
  },
  {
   "cell_type": "code",
   "execution_count": 1,
   "id": "d4ce0acd",
   "metadata": {},
   "outputs": [
    {
     "name": "stdout",
     "output_type": "stream",
     "text": [
      "Abed lagu favoritnya Apa Mungkin dari Bernadya\n",
      "Kipli lagu favoritnya Jaran Goyang dari NDX AKA\n",
      "Sani lagu favoritnya Love Story dari Taylor Swift\n"
     ]
    }
   ],
   "source": [
    "class Lagu:                                                                     #Mendefinisikan kelas \"Lagu\"\n",
    "    def __init__(self, nama, lagu, artis):                                      #Mendefinisikan atribut instance yaitu nama, lagu, artis\n",
    "        self.nama = nama                                                        #Menyimpan paramater nama kedalam atribut nama                                                         \n",
    "        self.lagu = lagu                                                        #Menyimpan parameter lagu kedalam atribut lagu\n",
    "        self.artis = artis                                                      #Menyimpan parameter artis kedalam atribut artis\n",
    "\n",
    "    def info(self):                                                             #Mendefinisikan method \"info\" untuk mencetak kalimat dan data dari atribut instance\n",
    "        print(self.nama,\"lagu favoritnya\", self.lagu, \"dari\", self.artis)       #Kalimat yang akan dicetak\n",
    "\n",
    "a1 = Lagu(\"Abed\", \"Apa Mungkin\", \"Bernadya\")                                   #Mendefinisikan objek 1 \n",
    "a2 = Lagu(\"Kipli\",\"Jaran Goyang\", \"NDX AKA\")                                   #Mendefinisikan objek 2\n",
    "a3 = Lagu(\"Sani\", \"Love Story\", \"Taylor Swift\")                                #Mendefinisikan objek 3\n",
    "\n",
    "a1.info()                                                                      #Memanggil method \"info\" untuk objek 1\n",
    "a2.info()                                                                      #Memanggil method \"info\" untuk objek 2\n",
    "a3.info()                                                                      #Memanggil method \"info\" untuk objek 3"
   ]
  }
 ],
 "metadata": {
  "kernelspec": {
   "display_name": "base",
   "language": "python",
   "name": "python3"
  },
  "language_info": {
   "codemirror_mode": {
    "name": "ipython",
    "version": 3
   },
   "file_extension": ".py",
   "mimetype": "text/x-python",
   "name": "python",
   "nbconvert_exporter": "python",
   "pygments_lexer": "ipython3",
   "version": "3.13.5"
  }
 },
 "nbformat": 4,
 "nbformat_minor": 5
}
